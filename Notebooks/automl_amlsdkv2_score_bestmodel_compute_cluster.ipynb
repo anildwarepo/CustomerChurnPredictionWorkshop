{
 "cells": [
  {
   "cell_type": "markdown",
   "metadata": {},
   "source": [
    "### Scoring using the best model locally - Optional"
   ]
  },
  {
   "cell_type": "markdown",
   "metadata": {},
   "source": [
    "The training environment in AML compute cluster can be different than the one locally. We need to create a new Conda environment in the repo so that model can be loaded locally. \n",
    "\n",
    "    conda env create -f conda_env.yml"
   ]
  },
  {
   "cell_type": "markdown",
   "metadata": {},
   "source": [
    "Use the model file downloaded using automl_amlsdkv2_training.ipynb. "
   ]
  },
  {
   "cell_type": "markdown",
   "metadata": {},
   "source": [
    "If AML Compute Instance is used for local scoring, then the notebook kernel should be set to Python 3.8 - AzureML\n",
    "\n",
    "If AML Compute Cluster is used for remote scoring, then the notebook kernel should be set to Python 3.10 - SDK v2"
   ]
  },
  {
   "cell_type": "markdown",
   "metadata": {},
   "source": [
    "### Score using Compute Cluster in AML - Optional "
   ]
  },
  {
   "cell_type": "code",
   "execution_count": 1,
   "metadata": {},
   "outputs": [],
   "source": [
    "from azure.identity import DefaultAzureCredential, InteractiveBrowserCredential\n",
    "from azure.ai.ml import MLClient\n",
    "try:\n",
    "    credential = DefaultAzureCredential()\n",
    "    # Check if given credential can get token successfully.\n",
    "    credential.get_token(\"https://management.azure.com/.default\")\n",
    "except Exception as ex:\n",
    "    # Fall back to InteractiveBrowserCredential in case DefaultAzureCredential not work\n",
    "    credential = InteractiveBrowserCredential()"
   ]
  },
  {
   "cell_type": "markdown",
   "metadata": {},
   "source": [
    "#### Provide values for your AML workspace\n",
    "\n",
    "    subscription_id = \"YOUR_SUBSCRIPTION_ID\"\n",
    "    resource_group = \"YOUR_RESOURCE_GROUP\"\n",
    "    workspace = \"YOUR_WORKSPACE_NAME\""
   ]
  },
  {
   "cell_type": "code",
   "execution_count": 2,
   "metadata": {},
   "outputs": [
    {
     "name": "stdout",
     "output_type": "stream",
     "text": [
      "We could not find config.json in: . or in its parent directories. Please provide the full path to the config file or ensure that config.json exists in the parent directories.\n"
     ]
    }
   ],
   "source": [
    "\n",
    "ml_client = None\n",
    "try:\n",
    "    ml_client = MLClient.from_config(credential)\n",
    "except Exception as ex:\n",
    "    print(ex)\n",
    "    # Enter details of your Azure Machine Learning workspace\n",
    "    subscription_id = \"f1a8fafd-a8a3-46d8-bb5e-01deb63d275d\"\n",
    "    resource_group = \"aml-rg\"\n",
    "    workspace = \"aml-testws\"\n",
    "    ml_client = MLClient(credential, subscription_id, resource_group, workspace)"
   ]
  },
  {
   "cell_type": "markdown",
   "metadata": {},
   "source": [
    "Set the model name created in automl_amlsdkv2_training.ipynb"
   ]
  },
  {
   "cell_type": "code",
   "execution_count": 4,
   "metadata": {},
   "outputs": [
    {
     "data": {
      "text/plain": [
       "'azureml://subscriptions/f1a8fafd-a8a3-46d8-bb5e-01deb63d275d/resourceGroups/aml-rg/workspaces/aml-testws/datastores/workspaceartifactstore/paths/ExperimentRun/dcid.jolly_circle_ywmvvvb4dc_3/outputs/mlflow-model'"
      ]
     },
     "execution_count": 4,
     "metadata": {},
     "output_type": "execute_result"
    }
   ],
   "source": [
    "from azure.ai.ml.entities import Model\n",
    "from azure.ai.ml.constants import ModelType\n",
    "\n",
    "my_unique_dataset_name = \"1155c2a891714097b099ade1fee4bddb\" # Replace with your dataset name used in the training notebook\n",
    "\n",
    "model_name = f\"{my_unique_dataset_name}-wa_telco_customer_churn_model_best\"\n",
    "model_versions = ml_client.models.list(name=model_name)\n",
    "latest_model = max(model_versions, key=lambda x: x.version)\n",
    "latest_model.path"
   ]
  },
  {
   "cell_type": "code",
   "execution_count": 7,
   "metadata": {},
   "outputs": [],
   "source": [
    "from azure.ai.ml import command, Input, Output\n",
    "from azure.ai.ml.constants import AssetTypes, InputOutputModes\n",
    "data_type = AssetTypes.MLTABLE\n",
    "input_mode = InputOutputModes.RO_MOUNT\n",
    "output_mode = InputOutputModes.RW_MOUNT"
   ]
  },
  {
   "cell_type": "markdown",
   "metadata": {},
   "source": [
    "Get reference to test dataset from AML"
   ]
  },
  {
   "cell_type": "code",
   "execution_count": 5,
   "metadata": {},
   "outputs": [],
   "source": [
    "\n",
    "data_asset_name = f\"{my_unique_dataset_name}-wa_telco_customer_churn_test_data\"\n",
    "data_asset_version = \"1.0\" # Replace with your dataset version used in the training notebook\n",
    "data_asset = ml_client.data.get(name=data_asset_name, version=data_asset_version)"
   ]
  },
  {
   "cell_type": "markdown",
   "metadata": {},
   "source": [
    "Create Input schema for scoring job"
   ]
  },
  {
   "cell_type": "code",
   "execution_count": 8,
   "metadata": {},
   "outputs": [],
   "source": [
    "\n",
    "#data_path = \"./wa_telco_customer_churn_test_data_uri_file.csv\"\n",
    "inputs = {\n",
    "    \"input_data\": Input(type=AssetTypes.URI_FILE, path=data_asset.path),\n",
    "    \"input_model\": Input(type=AssetTypes.MLFLOW_MODEL, path=latest_model.path)\n",
    "}"
   ]
  },
  {
   "cell_type": "code",
   "execution_count": null,
   "metadata": {},
   "outputs": [],
   "source": [
    "inputs"
   ]
  },
  {
   "cell_type": "markdown",
   "metadata": {},
   "source": [
    "Create Output schema for scoring job.\n",
    "Update dataset_version if the scoring job is re-run. "
   ]
  },
  {
   "cell_type": "code",
   "execution_count": 13,
   "metadata": {},
   "outputs": [],
   "source": [
    "dataset_path = f\"{my_unique_dataset_name}-wa-telco-customer-churn-predictions\"\n",
    "dataset_version = \"2.0\" # provide a new version number for the predictions dataset if scoring is run multiple times\n",
    "outputs = {\n",
    "    \"output_folder\": Output(\n",
    "        type=AssetTypes.URI_FOLDER,\n",
    "        path=f\"azureml://subscriptions/{ml_client.subscription_id}/resourcegroups/{ml_client.resource_group_name}/workspaces/{ml_client.workspace_name}/datastores/workspaceblobstore/paths/{dataset_path}\",\n",
    "        name = dataset_path,\n",
    "        version = dataset_version\n",
    "    )\n",
    "}"
   ]
  },
  {
   "cell_type": "markdown",
   "metadata": {},
   "source": [
    "Define scoring job using Command component"
   ]
  },
  {
   "cell_type": "markdown",
   "metadata": {},
   "source": [
    "Use the same environment as the model was created in AutoML. \n",
    "    \n",
    "        AzureML-AutoML:142"
   ]
  },
  {
   "cell_type": "markdown",
   "metadata": {},
   "source": [
    "Please review score.py"
   ]
  },
  {
   "cell_type": "code",
   "execution_count": 14,
   "metadata": {},
   "outputs": [
    {
     "data": {
      "text/html": [
       "<table style=\"width:100%\"><tr><th>Experiment</th><th>Name</th><th>Type</th><th>Status</th><th>Details Page</th></tr><tr><td>1155c2a891714097b099ade1fee4bddb-wa-telco-customer-churn-prediction</td><td>maroon_rail_qcx1lvfyj7</td><td>command</td><td>Starting</td><td><a href=\"https://ml.azure.com/runs/maroon_rail_qcx1lvfyj7?wsid=/subscriptions/f1a8fafd-a8a3-46d8-bb5e-01deb63d275d/resourcegroups/aml-rg/workspaces/aml-testws&amp;tid=7f1290b4-3c39-4277-a63e-c577680a12cf\" target=\"_blank\" rel=\"noopener\">Link to Azure Machine Learning studio</a></td></tr></table>"
      ],
      "text/plain": [
       "Command({'parameters': {}, 'init': False, 'name': 'maroon_rail_qcx1lvfyj7', 'type': 'command', 'status': 'Starting', 'log_files': None, 'description': None, 'tags': {}, 'properties': {'mlflow.source.git.repoURL': 'https://github.com/anildwarepo/CustomerChurnPredictionWorkshop.git', 'mlflow.source.git.branch': 'main', 'mlflow.source.git.commit': '41f032aa5a37018b74add5bcf52d67676731cbc2', 'azureml.git.dirty': 'True', '_azureml.ComputeTargetType': 'amlctrain', 'ContentSnapshotId': 'cd9cf85c-d97f-4dc6-aa88-c692174d1528'}, 'print_as_yaml': True, 'id': '/subscriptions/f1a8fafd-a8a3-46d8-bb5e-01deb63d275d/resourceGroups/aml-rg/providers/Microsoft.MachineLearningServices/workspaces/aml-testws/jobs/maroon_rail_qcx1lvfyj7', 'Resource__source_path': None, 'base_path': 'c:\\\\source\\\\repos\\\\aml-customer-churn-prediction\\\\Notebooks', 'creation_context': <azure.ai.ml.entities._system_data.SystemData object at 0x0000024C79CFCF70>, 'serialize': <msrest.serialization.Serializer object at 0x0000024C79DC9E40>, 'allowed_keys': {}, 'key_restriction': False, 'logger': <Logger attr_dict (WARNING)>, 'display_name': 'maroon_rail_qcx1lvfyj7', 'experiment_name': '1155c2a891714097b099ade1fee4bddb-wa-telco-customer-churn-prediction', 'compute': 'cpu-cluster', 'services': {'Tracking': {'endpoint': 'azureml://westus.api.azureml.ms/mlflow/v1.0/subscriptions/f1a8fafd-a8a3-46d8-bb5e-01deb63d275d/resourceGroups/aml-rg/providers/Microsoft.MachineLearningServices/workspaces/aml-testws?', 'type': 'Tracking'}, 'Studio': {'endpoint': 'https://ml.azure.com/runs/maroon_rail_qcx1lvfyj7?wsid=/subscriptions/f1a8fafd-a8a3-46d8-bb5e-01deb63d275d/resourcegroups/aml-rg/workspaces/aml-testws&tid=7f1290b4-3c39-4277-a63e-c577680a12cf', 'type': 'Studio'}}, 'comment': None, 'job_inputs': {'input_data': {'type': 'uri_file', 'path': 'azureml://subscriptions/f1a8fafd-a8a3-46d8-bb5e-01deb63d275d/resourcegroups/aml-rg/workspaces/aml-testws/datastores/workspaceblobstore/paths/LocalUpload/452b4e3d39378870f5705a394c8e37d5/1155c2a891714097b099ade1fee4bddb-WA_Fn-UseC_-Telco-Customer-Churn_Test.csv', 'mode': 'ro_mount'}, 'input_model': {'type': 'mlflow_model', 'path': 'azureml://subscriptions/f1a8fafd-a8a3-46d8-bb5e-01deb63d275d/resourceGroups/aml-rg/workspaces/aml-testws/datastores/workspaceartifactstore/paths/ExperimentRun/dcid.jolly_circle_ywmvvvb4dc_3/outputs/mlflow-model', 'mode': 'ro_mount'}}, 'job_outputs': {'output_folder': {'type': 'uri_folder', 'name': '1155c2a891714097b099ade1fee4bddb-wa-telco-customer-churn-predictions', 'version': '2.0', 'path': 'azureml://subscriptions/f1a8fafd-a8a3-46d8-bb5e-01deb63d275d/resourcegroups/aml-rg/workspaces/aml-testws/datastores/workspaceblobstore/paths/1155c2a891714097b099ade1fee4bddb-wa-telco-customer-churn-predictions', 'mode': 'rw_mount'}, 'default': {'type': 'uri_folder', 'path': 'azureml://datastores/workspaceartifactstore/ExperimentRun/dcid.maroon_rail_qcx1lvfyj7', 'mode': 'rw_mount'}}, 'inputs': {'input_data': <azure.ai.ml.entities._job.pipeline._io.base.NodeInput object at 0x0000024C79DCBE20>, 'input_model': <azure.ai.ml.entities._job.pipeline._io.base.NodeInput object at 0x0000024C79DCBC40>}, 'outputs': {'output_folder': <azure.ai.ml.entities._job.pipeline._io.base.NodeOutput object at 0x0000024C79DCBC10>, 'default': <azure.ai.ml.entities._job.pipeline._io.base.NodeOutput object at 0x0000024C79DCB790>}, 'component': CommandComponent({'intellectual_property': None, 'auto_increment_version': True, 'source': 'REMOTE.WORKSPACE.JOB', 'is_anonymous': False, 'auto_delete_setting': None, 'name': 'maroon_rail_qcx1lvfyj7', 'description': None, 'tags': {}, 'properties': {}, 'print_as_yaml': True, 'id': None, 'Resource__source_path': None, 'base_path': 'c:\\\\source\\\\repos\\\\aml-customer-churn-prediction\\\\Notebooks', 'creation_context': <azure.ai.ml.entities._system_data.SystemData object at 0x0000024C79CFCF70>, 'serialize': <msrest.serialization.Serializer object at 0x0000024C79DCBD90>, 'command': 'python score.py --input_model ${{inputs.input_model}} --input_data ${{inputs.input_data}} --output_folder ${{outputs.output_folder}}', 'code': '/subscriptions/f1a8fafd-a8a3-46d8-bb5e-01deb63d275d/resourceGroups/aml-rg/providers/Microsoft.MachineLearningServices/workspaces/aml-testws/codes/bf365058-92fb-4103-94d8-45430629bd28/versions/1', 'environment_variables': {}, 'environment': 'azureml:AzureML-AutoML:142', 'distribution': None, 'resources': None, 'queue_settings': None, 'version': None, 'latest_version': None, 'schema': None, 'type': 'command', 'display_name': 'maroon_rail_qcx1lvfyj7', 'is_deterministic': True, 'inputs': {'input_data': {'type': 'uri_file', 'path': 'azureml://subscriptions/f1a8fafd-a8a3-46d8-bb5e-01deb63d275d/resourcegroups/aml-rg/workspaces/aml-testws/datastores/workspaceblobstore/paths/LocalUpload/452b4e3d39378870f5705a394c8e37d5/1155c2a891714097b099ade1fee4bddb-WA_Fn-UseC_-Telco-Customer-Churn_Test.csv', 'mode': 'ro_mount'}, 'input_model': {'type': 'mlflow_model', 'path': 'azureml://subscriptions/f1a8fafd-a8a3-46d8-bb5e-01deb63d275d/resourceGroups/aml-rg/workspaces/aml-testws/datastores/workspaceartifactstore/paths/ExperimentRun/dcid.jolly_circle_ywmvvvb4dc_3/outputs/mlflow-model', 'mode': 'ro_mount'}}, 'outputs': {'output_folder': {'type': 'uri_folder', 'name': '1155c2a891714097b099ade1fee4bddb-wa-telco-customer-churn-predictions', 'version': '2.0', 'path': 'azureml://subscriptions/f1a8fafd-a8a3-46d8-bb5e-01deb63d275d/resourcegroups/aml-rg/workspaces/aml-testws/datastores/workspaceblobstore/paths/1155c2a891714097b099ade1fee4bddb-wa-telco-customer-churn-predictions', 'mode': 'rw_mount'}, 'default': {'type': 'uri_folder', 'path': 'azureml://datastores/workspaceartifactstore/ExperimentRun/dcid.maroon_rail_qcx1lvfyj7', 'mode': 'rw_mount'}}, 'yaml_str': None, 'other_parameter': {'status': 'Starting', 'parameters': {}}, 'additional_includes': []}), 'referenced_control_flow_node_instance_id': None, 'kwargs': {'services': {'Tracking': {'endpoint': 'azureml://westus.api.azureml.ms/mlflow/v1.0/subscriptions/f1a8fafd-a8a3-46d8-bb5e-01deb63d275d/resourceGroups/aml-rg/providers/Microsoft.MachineLearningServices/workspaces/aml-testws?', 'type': 'Tracking'}, 'Studio': {'endpoint': 'https://ml.azure.com/runs/maroon_rail_qcx1lvfyj7?wsid=/subscriptions/f1a8fafd-a8a3-46d8-bb5e-01deb63d275d/resourcegroups/aml-rg/workspaces/aml-testws&tid=7f1290b4-3c39-4277-a63e-c577680a12cf', 'type': 'Studio'}}, 'status': 'Starting', 'creation_context': <azure.ai.ml.entities._system_data.SystemData object at 0x0000024C79CFCF70>}, 'instance_id': 'dd23ce69-fc72-494c-a5ca-8a8eef488cd7', 'source': 'BUILDER', 'validate_required_input_not_provided': True, 'limits': None, 'identity': None, 'distribution': None, 'environment_variables': {}, 'environment': 'azureml:AzureML-AutoML:142', 'resources': {'instance_count': 1, 'shm_size': '2g'}, 'queue_settings': None, 'swept': False})"
      ]
     },
     "execution_count": 14,
     "metadata": {},
     "output_type": "execute_result"
    }
   ],
   "source": [
    "from azure.ai.ml import command, Input\n",
    "\n",
    "\n",
    "# define the command\n",
    "command_job = command(\n",
    "    code=\".././score-component/score_src/\",\n",
    "    command=\"python score.py --input_model ${{inputs.input_model}} --input_data ${{inputs.input_data}} --output_folder ${{outputs.output_folder}}\",\n",
    "    experiment_name=f\"{my_unique_dataset_name}-wa-telco-customer-churn-prediction\",\n",
    "    inputs=inputs,\n",
    "    outputs=outputs,    \n",
    "    environment=\"AzureML-AutoML:142\",\n",
    "    compute=\"cpu-cluster\",\n",
    ")\n",
    "\n",
    "# Submit the command\n",
    "ml_client.jobs.create_or_update(command_job)"
   ]
  },
  {
   "cell_type": "markdown",
   "metadata": {},
   "source": [
    "Please review the results of the Scoring job in Aml Workspace. "
   ]
  },
  {
   "cell_type": "markdown",
   "metadata": {},
   "source": [
    "- Once the Job complete, to view the Scoring results, naviate to the Azure Portal from the AML workspace top right corner. \n",
    "![Alt text](.././assets/automlimage41.png)\n",
    "\n",
    "- Click on \"View all properties in Azure Portal\".  This will open the Azure Poral in a new browser tab. \n",
    "- In the Azure portal, click on the Storage link in the AML workspace overview panel. \n",
    "![Alt text](.././assets/automlimage42.png)\n",
    "![Alt text](.././assets/automlimage43.png)\n",
    "\n",
    "- Navigate to Containers tab.\n",
    "\n",
    "![Alt text](.././assets/automlimage44.png)\n",
    "\n",
    "- Navigate to the azureml-blobstore-{{some-guid}} folder. Type the folder path in the search box. For e.g azureml/my_unique_folder_name/. This is the name of the folder path provided in the Designer page. Locate the my_unique_dataset_name-wa-telco-customer-churn-predictions folder created in this notebook.\n",
    "\n",
    "![Alt text](.././assets/automlimage45.png)\n",
    "\n",
    "- Download the file to review the Churn Prediction Results. \n",
    "\n",
    "![Alt text](.././assets/automlimage46.png)"
   ]
  }
 ],
 "metadata": {
  "kernelspec": {
   "display_name": "automlscoring",
   "language": "python",
   "name": "python3"
  },
  "language_info": {
   "codemirror_mode": {
    "name": "ipython",
    "version": 3
   },
   "file_extension": ".py",
   "mimetype": "text/x-python",
   "name": "python",
   "nbconvert_exporter": "python",
   "pygments_lexer": "ipython3",
   "version": "3.10.12"
  },
  "orig_nbformat": 4
 },
 "nbformat": 4,
 "nbformat_minor": 2
}
